{
  "cells": [
    {
      "cell_type": "markdown",
      "metadata": {
        "id": "view-in-github",
        "colab_type": "text"
      },
      "source": [
        "<a href=\"https://colab.research.google.com/github/PaulinaHernandez/CNN-pytorch/blob/main/CNN_pytorch_emotion_detector.ipynb\" target=\"_parent\"><img src=\"https://colab.research.google.com/assets/colab-badge.svg\" alt=\"Open In Colab\"/></a>"
      ]
    },
    {
      "cell_type": "code",
      "execution_count": 40,
      "metadata": {
        "id": "Q_wJq9i0iSXb"
      },
      "outputs": [],
      "source": [
        "import torch\n",
        "import torch.nn as nn\n",
        "import torch.optim as optim\n",
        "from torch.utils.data import DataLoader, random_split, Subset\n",
        "from torchvision import datasets, transforms\n",
        "from tqdm.notebook import tqdm\n",
        "import matplotlib.pyplot as plt\n",
        "from google.colab import drive"
      ]
    },
    {
      "cell_type": "markdown",
      "metadata": {
        "id": "Th4ZoY2OWqsx"
      },
      "source": [
        "#Dataset\n",
        "\n",
        "\n",
        "Dataset - fetch the data Dataloader - batchs it and shuffle using parallel process, needs to know the len() of the dataset and getitem from an index, inside the dataloader there's a collate_fn() which arreange this data in a batch\n"
      ]
    },
    {
      "cell_type": "code",
      "execution_count": 41,
      "metadata": {
        "colab": {
          "base_uri": "https://localhost:8080/"
        },
        "id": "aGpgZcWmV5vO",
        "outputId": "0d543f58-44ad-4cf6-c67c-a0d89ad9f6bd"
      },
      "outputs": [
        {
          "output_type": "stream",
          "name": "stdout",
          "text": [
            "Drive already mounted at /content/drive; to attempt to forcibly remount, call drive.mount(\"/content/drive\", force_remount=True).\n"
          ]
        }
      ],
      "source": [
        "# Mount Google Drive\n",
        "drive.mount('/content/drive')\n",
        "\n",
        "# Define your data directory\n",
        "data_dir = \"/content/drive/MyDrive/Projects/CNN-data\"\n",
        "\n",
        "# Standard Transformation for All Datasets\n",
        "transform_standard = transforms.Compose([\n",
        "    transforms.Resize((224, 224)),\n",
        "    transforms.ToTensor(),\n",
        "    transforms.Normalize(mean=[0.485, 0.456, 0.406], std=[0.229, 0.224, 0.225])\n",
        "])\n",
        "\n",
        "class CustomDataset(torch.utils.data.Dataset):\n",
        "    def __init__(self, dataset, transform=None):\n",
        "        self.dataset = dataset\n",
        "        self.transform = transform\n",
        "\n",
        "    def __len__(self):\n",
        "        return len(self.dataset)\n",
        "\n",
        "    def __getitem__(self, idx):\n",
        "        image, label = self.dataset[idx]\n",
        "        if self.transform:\n",
        "            image = self.transform(image)\n",
        "        return image, label\n",
        "\n",
        "# Load the entire dataset without any transformation\n",
        "full_dataset = datasets.ImageFolder(data_dir)\n",
        "\n",
        "# Split the dataset\n",
        "train_size = int(0.7 * len(full_dataset))\n",
        "val_size = int(0.15 * len(full_dataset))\n",
        "test_size = len(full_dataset) - train_size - val_size\n",
        "train_dataset, val_test_dataset = random_split(full_dataset, [train_size, val_size + test_size])\n",
        "\n",
        "# Further split val_test_dataset into validation and test sets\n",
        "val_dataset, test_dataset = random_split(val_test_dataset, [val_size, test_size])\n",
        "\n",
        "# Now wrap the datasets with the CustomDataset class to apply the standard transformations\n",
        "train_dataset = CustomDataset(train_dataset, transform=transform_standard)\n",
        "val_dataset = CustomDataset(val_dataset, transform=transform_standard)\n",
        "test_dataset = CustomDataset(test_dataset, transform=transform_standard)\n",
        "\n",
        "# Create data loaders\n",
        "batch_size = 32\n",
        "train_loader = DataLoader(train_dataset, batch_size=batch_size, shuffle=True)\n",
        "val_loader = DataLoader(val_dataset, batch_size=batch_size, shuffle=False)\n",
        "test_loader = DataLoader(test_dataset, batch_size=batch_size, shuffle=False)"
      ]
    },
    {
      "cell_type": "markdown",
      "source": [
        "##Explore"
      ],
      "metadata": {
        "id": "s6klkO2Ijilk"
      }
    },
    {
      "cell_type": "code",
      "source": [
        " # Assuming you've already split your datasets into train_dataset, val_dataset, and test_dataset\n",
        "\n",
        "print(f\"Length of Training Dataset: {len(train_dataset)}\")\n",
        "print(f\"Length of Validation Dataset: {len(val_dataset)}\")\n",
        "print(f\"Length of Test Dataset: {len(test_dataset)}\")\n"
      ],
      "metadata": {
        "colab": {
          "base_uri": "https://localhost:8080/"
        },
        "id": "zoyhZ4gCjXvV",
        "outputId": "21e081cc-b15d-458e-a214-21f88a5f8660"
      },
      "execution_count": 42,
      "outputs": [
        {
          "output_type": "stream",
          "name": "stdout",
          "text": [
            "Length of Training Dataset: 213\n",
            "Length of Validation Dataset: 45\n",
            "Length of Test Dataset: 47\n"
          ]
        }
      ]
    },
    {
      "cell_type": "code",
      "source": [
        "print(full_dataset.class_to_idx)"
      ],
      "metadata": {
        "colab": {
          "base_uri": "https://localhost:8080/"
        },
        "id": "QWUkKzsutkXu",
        "outputId": "e91f2023-65d3-46cf-f04f-159236bcd6bb"
      },
      "execution_count": 43,
      "outputs": [
        {
          "output_type": "stream",
          "name": "stdout",
          "text": [
            "{'happy': 0, 'sad': 1}\n"
          ]
        }
      ]
    },
    {
      "cell_type": "markdown",
      "metadata": {
        "id": "JnSL0HPFqlH-"
      },
      "source": [
        "# Model"
      ]
    },
    {
      "cell_type": "code",
      "execution_count": 44,
      "metadata": {
        "id": "LAJerutgFaRR"
      },
      "outputs": [],
      "source": [
        "class EmotionCNNSequential(nn.Module):\n",
        "    def __init__(self):\n",
        "        super(EmotionCNNSequential, self).__init__()\n",
        "\n",
        "        # Convolutional layers block\n",
        "        self.conv_layers = nn.Sequential(\n",
        "            nn.Conv2d(3, 16, kernel_size=3, stride=1, padding=1),\n",
        "            nn.ReLU(),\n",
        "            nn.MaxPool2d(kernel_size=2, stride=2),\n",
        "\n",
        "            nn.Conv2d(16, 32, kernel_size=3, stride=1, padding=1),\n",
        "            nn.ReLU(),\n",
        "            nn.MaxPool2d(kernel_size=2, stride=2),\n",
        "\n",
        "            nn.Conv2d(32, 64, kernel_size=3, stride=1, padding=1),\n",
        "            nn.ReLU(),\n",
        "            nn.MaxPool2d(kernel_size=2, stride=2)\n",
        "        )\n",
        "\n",
        "        # Fully connected layers block\n",
        "        self.fc_layers = nn.Sequential(\n",
        "            # Adjust the input size based on your input image's dimension after pooling\n",
        "            nn.Linear(64 * 28 * 28, 512),\n",
        "            nn.ReLU(),\n",
        "            nn.Linear(512, 128),\n",
        "            nn.ReLU(),\n",
        "            nn.Linear(128, 1)  # Output layer: 1 unit for binary classification\n",
        "        )\n",
        "\n",
        "    def forward(self, x):\n",
        "        x = self.conv_layers(x)\n",
        "        # Flatten the output for fully connected layers\n",
        "        x = x.view(-1, 64 * 28 * 28)\n",
        "        x = self.fc_layers(x)\n",
        "        # No sigmoid activation here because nn.BCEWithLogitsLoss will apply it\n",
        "        return x"
      ]
    },
    {
      "cell_type": "markdown",
      "source": [
        "##Check device"
      ],
      "metadata": {
        "id": "N8-syv4WjzWM"
      }
    },
    {
      "cell_type": "code",
      "source": [
        "device = torch.device(\"cuda\" if torch.cuda.is_available() else \"cpu\")\n",
        "model = CNN().to(device)"
      ],
      "metadata": {
        "id": "5pmhi3Epj3C5"
      },
      "execution_count": 45,
      "outputs": []
    },
    {
      "cell_type": "code",
      "source": [
        "device"
      ],
      "metadata": {
        "colab": {
          "base_uri": "https://localhost:8080/"
        },
        "id": "9MiAdIJmNm_o",
        "outputId": "a6820fce-e29d-405a-8950-d00436e7e8b2"
      },
      "execution_count": 46,
      "outputs": [
        {
          "output_type": "execute_result",
          "data": {
            "text/plain": [
              "device(type='cpu')"
            ]
          },
          "metadata": {},
          "execution_count": 46
        }
      ]
    },
    {
      "cell_type": "markdown",
      "metadata": {
        "id": "XTko13KEq6hY"
      },
      "source": [
        "#Training"
      ]
    },
    {
      "cell_type": "code",
      "source": [
        "criterion = nn.BCEWithLogitsLoss()\n",
        "optimizer = optim.Adam(model.parameters(), lr=0.001)"
      ],
      "metadata": {
        "id": "lG4tHx531QFj"
      },
      "execution_count": 47,
      "outputs": []
    },
    {
      "cell_type": "code",
      "execution_count": 50,
      "metadata": {
        "id": "IFDIVi1KYMW2",
        "colab": {
          "base_uri": "https://localhost:8080/",
          "height": 674
        },
        "outputId": "50741156-f9db-4a7d-b353-609a64e2ef37"
      },
      "outputs": [
        {
          "output_type": "stream",
          "name": "stdout",
          "text": [
            "Epoch 1/6, Train Loss: 1.2362, Validation Loss: 0.5721\n",
            "Epoch 2/6, Train Loss: 0.5201, Validation Loss: 0.5648\n",
            "Epoch 3/6, Train Loss: 0.4553, Validation Loss: 0.5168\n",
            "Epoch 4/6, Train Loss: 0.3645, Validation Loss: 0.4031\n",
            "Epoch 5/6, Train Loss: 0.2475, Validation Loss: 0.3870\n",
            "Epoch 6/6, Train Loss: 0.1450, Validation Loss: 0.4362\n"
          ]
        },
        {
          "output_type": "display_data",
          "data": {
            "text/plain": [
              "<Figure size 1000x600 with 1 Axes>"
            ],
            "image/png": "[encoded data removed]"
          },
          "metadata": {}
        }
      ],
      "source": [
        "import torch.optim as optim\n",
        "import matplotlib.pyplot as plt\n",
        "\n",
        "# Instantiate the model\n",
        "model = EmotionCNNSequential()\n",
        "\n",
        "# Define the loss function\n",
        "criterion = nn.BCEWithLogitsLoss()\n",
        "\n",
        "# Define the optimizer\n",
        "optimizer = optim.Adam(model.parameters(), lr=0.001)\n",
        "\n",
        "# Move the model to the appropriate device\n",
        "device = torch.device(\"cuda:0\" if torch.cuda.is_available() else \"cpu\")\n",
        "model.to(device)\n",
        "\n",
        "# Number of epochs\n",
        "num_epochs = 6\n",
        "\n",
        "# Lists to store losses\n",
        "train_losses = []\n",
        "val_losses = []\n",
        "\n",
        "for epoch in range(num_epochs):\n",
        "    model.train()  # Set the model to training mode\n",
        "    running_loss = 0.0\n",
        "\n",
        "    for inputs, labels in train_loader:\n",
        "        inputs, labels = inputs.to(device), labels.to(device).float().view(-1, 1)\n",
        "\n",
        "        optimizer.zero_grad()\n",
        "\n",
        "        outputs = model(inputs)\n",
        "        loss = criterion(outputs, labels)\n",
        "        loss.backward()\n",
        "        optimizer.step()\n",
        "\n",
        "        running_loss += loss.item() * inputs.size(0)\n",
        "\n",
        "    epoch_loss = running_loss / len(train_loader.dataset)\n",
        "    train_losses.append(epoch_loss)\n",
        "\n",
        "    # Validation phase\n",
        "    model.eval()\n",
        "    val_running_loss = 0.0\n",
        "    with torch.no_grad():\n",
        "        for inputs, labels in val_loader:\n",
        "            inputs, labels = inputs.to(device), labels.to(device).float().view(-1, 1)\n",
        "\n",
        "            outputs = model(inputs)\n",
        "            loss = criterion(outputs, labels)\n",
        "\n",
        "            val_running_loss += loss.item() * inputs.size(0)\n",
        "\n",
        "    val_loss = val_running_loss / len(val_loader.dataset)\n",
        "    val_losses.append(val_loss)\n",
        "\n",
        "    print(f'Epoch {epoch+1}/{num_epochs}, Train Loss: {epoch_loss:.4f}, Validation Loss: {val_loss:.4f}')\n",
        "\n"
      ]
    },
    {
      "cell_type": "markdown",
      "source": [
        "#Plot"
      ],
      "metadata": {
        "id": "jOSoxnMcAD1N"
      }
    },
    {
      "cell_type": "code",
      "source": [
        "# Plotting the training and validation loss\n",
        "plt.figure(figsize=(10, 6))\n",
        "plt.plot(train_losses, label='Training Loss')\n",
        "plt.plot(val_losses, label='Validation Loss')\n",
        "plt.title('Training and Validation Loss')\n",
        "plt.xlabel('Epochs')\n",
        "plt.ylabel('Loss')\n",
        "plt.legend()\n",
        "plt.show()"
      ],
      "metadata": {
        "id": "7VPUCPwnZi9d"
      },
      "execution_count": null,
      "outputs": []
    },
    {
      "cell_type": "markdown",
      "source": [
        "#Evaluation"
      ],
      "metadata": {
        "id": "ascb_WUH_7dR"
      }
    },
    {
      "cell_type": "code",
      "execution_count": 51,
      "metadata": {
        "id": "oPMceJFphiBa",
        "colab": {
          "base_uri": "https://localhost:8080/"
        },
        "outputId": "871afe11-8161-4a71-9bb4-826fc14ed66f"
      },
      "outputs": [
        {
          "output_type": "stream",
          "name": "stdout",
          "text": [
            "Test Loss: 0.5462, Test Accuracy: 0.7447\n"
          ]
        }
      ],
      "source": [
        "def evaluate_model(model, test_loader, device):\n",
        "    model.eval()  # Set the model to evaluation mode\n",
        "    test_running_loss = 0.0\n",
        "    correct_predictions = 0\n",
        "    total_predictions = 0\n",
        "\n",
        "    with torch.no_grad():\n",
        "        for inputs, labels in test_loader:\n",
        "            inputs, labels = inputs.to(device), labels.to(device).float().view(-1, 1)\n",
        "\n",
        "            outputs = model(inputs)\n",
        "            # Apply sigmoid to convert outputs to probabilities\n",
        "            probs = torch.sigmoid(outputs)\n",
        "            # Convert probabilities to predicted class (0 or 1) based on 0.5 threshold\n",
        "            preds = probs > 0.5\n",
        "            loss = criterion(outputs, labels)\n",
        "\n",
        "            test_running_loss += loss.item() * inputs.size(0)\n",
        "            correct_predictions += torch.sum(preds == labels.byte()).item()\n",
        "            total_predictions += labels.size(0)\n",
        "\n",
        "    test_loss = test_running_loss / len(test_loader.dataset)\n",
        "    test_accuracy = correct_predictions / total_predictions\n",
        "\n",
        "    print(f'Test Loss: {test_loss:.4f}, Test Accuracy: {test_accuracy:.4f}')\n",
        "\n",
        "# Assuming your device is already defined\n",
        "evaluate_model(model, test_loader, device)\n"
      ]
    },
    {
      "cell_type": "markdown",
      "source": [
        "### Let's try a new image"
      ],
      "metadata": {
        "id": "_Ftmmxvh_q7V"
      }
    },
    {
      "cell_type": "code",
      "source": [
        "from torchvision import transforms\n",
        "from PIL import Image\n",
        "\n",
        "# Path to your new image\n",
        "image_path = '/content/drive/MyDrive/Pythonclass/CNN-data/img.jpg'\n",
        "\n",
        "# Same transformations as used for your validation/test dataset\n",
        "transform = transforms.Compose([\n",
        "    transforms.Resize((224, 224)),  # Assuming this is the size your model expects\n",
        "    transforms.ToTensor(),\n",
        "    transforms.Normalize(mean=[0.485, 0.456, 0.406], std=[0.229, 0.224, 0.225])\n",
        "])\n",
        "\n",
        "# Load the image\n",
        "image = Image.open(image_path)\n",
        "\n",
        "# Apply transformations\n",
        "image = transform(image).unsqueeze(0)"
      ],
      "metadata": {
        "id": "z9Gio2vURooc"
      },
      "execution_count": 52,
      "outputs": []
    },
    {
      "cell_type": "code",
      "source": [
        "# Assuming 'model' is your trained model and 'device' is defined (e.g., cuda or cpu)\n",
        "model.eval()  # Set the model to evaluation mode\n",
        "image = image.to(device)  # Move the image to the same device as your model\n",
        "\n",
        "with torch.no_grad():  # No need to track gradients\n",
        "    outputs = model(image)\n",
        "    _, predicted = torch.max(outputs, 1)  # Get the index of the max log-probability\n",
        "\n",
        "# Assuming you have a list or dict of class indices to class names\n",
        "class_names = ['class0', 'class1']  # Example class names\n",
        "predicted_class = class_names[predicted.item()]\n",
        "\n",
        "print(f'Predicted class: {predicted_class}')"
      ],
      "metadata": {
        "colab": {
          "base_uri": "https://localhost:8080/"
        },
        "id": "vzxZrjzmRqJG",
        "outputId": "6b0e5bfc-193a-4115-bde5-c72576898229"
      },
      "execution_count": 53,
      "outputs": [
        {
          "output_type": "stream",
          "name": "stdout",
          "text": [
            "Predicted class: class0\n"
          ]
        }
      ]
    }
  ],
  "metadata": {
    "colab": {
      "provenance": [],
      "authorship_tag": "ABX9TyM9Y3jTwXKtU8TcenvFr7Dp",
      "include_colab_link": true
    },
    "kernelspec": {
      "display_name": "Python 3",
      "name": "python3"
    },
    "language_info": {
      "name": "python"
    }
  },
  "nbformat": 4,
  "nbformat_minor": 0
}